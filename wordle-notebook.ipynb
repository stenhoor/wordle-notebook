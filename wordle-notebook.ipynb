{
 "cells": [
  {
   "cell_type": "markdown",
   "id": "9e2d5471-f304-465d-a02a-9a41d2addf64",
   "metadata": {},
   "source": [
    "# Wordle Notebook"
   ]
  },
  {
   "cell_type": "markdown",
   "id": "d0dd9435-ee72-44bc-bdbc-81669bb1fdbe",
   "metadata": {},
   "source": [
    "This notebook is primarily intended as a coding demonstration of Python and Pandas for the filtering and processing of a set of string data.  On a secondary basis, it also serves to simply the daily filtering and sorting of wordle-style puzzles, such as those found at https://www.nytimes.com/games/wordle/index.html\n",
    "\n",
    "For the Python and Pandas coder, the example code includes:\n",
    "1. Pulling text data out of a URL into a dataframe\n",
    "2. Dynamic .assign statements using dictionaries\n",
    "3. Method chaining filtering with Pandas\n",
    "4. Logging statements within a method chain\n",
    "5. Dynamically creating a variety of regex statements using list comprehensions, lambdas, and reduce"
   ]
  },
  {
   "cell_type": "code",
   "execution_count": null,
   "id": "b6b1f0ec-c6c7-42a2-91b1-0a18df33d487",
   "metadata": {},
   "outputs": [],
   "source": [
    "import pandas as pd\n",
    "import re\n",
    "import logging\n",
    "from functools import reduce"
   ]
  },
  {
   "cell_type": "code",
   "execution_count": null,
   "id": "a35ee7fa-f3bc-4b8b-a64d-652fa846f1da",
   "metadata": {},
   "outputs": [],
   "source": [
    "logging.basicConfig(format='%(asctime)s %(message)s', datefmt='%m/%d/%Y %I:%M:%S %p', level=logging.INFO)"
   ]
  },
  {
   "cell_type": "code",
   "execution_count": null,
   "id": "98082e52-9f82-4a62-8925-4e8300236fae",
   "metadata": {},
   "outputs": [],
   "source": [
    "df = pd.read_csv(\n",
    "    'https://raw.githubusercontent.com/tabatkins/wordle-list/main/words',\n",
    "    header=None, \n",
    "    names=['words']\n",
    ")"
   ]
  },
  {
   "cell_type": "code",
   "execution_count": null,
   "id": "f8603d02-a80f-4c33-8974-03ea7db79663",
   "metadata": {},
   "outputs": [],
   "source": [
    "df = df.assign(**{f'l{i+1}' : eval(f'lambda x: x.words.str[{i}]') for i in range(0,5)})"
   ]
  },
  {
   "cell_type": "code",
   "execution_count": null,
   "id": "e25008c5-1adf-4e7f-806e-9327e1c8b409",
   "metadata": {},
   "outputs": [],
   "source": [
    "def pipe_logger(val, label):\n",
    "    logging.info(f'{label} : {val}')\n",
    "    return val"
   ]
  },
  {
   "cell_type": "markdown",
   "id": "74984942-6a8a-4663-8708-bd81dfc08e5c",
   "metadata": {},
   "source": [
    "## Find today's word"
   ]
  },
  {
   "cell_type": "code",
   "execution_count": null,
   "id": "8d3ff3e5-ae0e-45f0-9d22-c6ddb9508465",
   "metadata": {},
   "outputs": [],
   "source": [
    "# tries is a list of tuples, each containing 5 letters\n",
    "# the first tuple is the submitted word\n",
    "# the second tuple contains matches\n",
    "#  - Lower case = Yellow match\n",
    "#  - Upper case = Green match\n",
    "tries = [\n",
    "    #'-----', '-----'\n",
    "    ('takes', '     '),\n",
    "    # ('chino', '   n '),\n",
    "]"
   ]
  },
  {
   "cell_type": "code",
   "execution_count": null,
   "id": "3ef3c79c-377d-4096-821a-38c0f3572b2a",
   "metadata": {},
   "outputs": [],
   "source": [
    "# Generate remaining candidates out of the tries list of tuples\n",
    "candidates = (\n",
    "    df\n",
    "    [\n",
    "        # match words not containing letters that failed matches\n",
    "        ~df.words.str.contains(\n",
    "            pipe_logger(\n",
    "                ''.join(\n",
    "                    [r'['] +\n",
    "                    [\n",
    "                        re.sub(\n",
    "                            '\\.',\n",
    "                            '',\n",
    "                            reduce(\n",
    "                                # iterate over the mask, replacing each space with the letter in word a\n",
    "                                lambda a, b: ''.join([re.sub(' ', a[i], b[i]) for i in range(0,5)]),\n",
    "                                [\n",
    "                                    t[0],\n",
    "                                    # create a mask for removing characters\n",
    "                                    re.sub('[A-Za-z]','.',t[1])\n",
    "                                ]\n",
    "                            )\n",
    "                        )\n",
    "                        # iterate over tuples\n",
    "                        for t in tries\n",
    "                    ] +\n",
    "                    [']']\n",
    "                ),\n",
    "                'Unmatched Regex',\n",
    "            ),           \n",
    "            regex=True,\n",
    "        )\n",
    "        \n",
    "        # match words containing successful letter placement\n",
    "        & df.words.str.contains(\n",
    "            pipe_logger(\n",
    "                # create a regular expression to find exact matches\n",
    "                re.sub(\n",
    "                    ' ',\n",
    "                    '.',\n",
    "                    # reduce the list of successful letter finds to a single word\n",
    "                    reduce(\n",
    "                        # iterate over the letter, replacing spaces in word a with the letter in word b\n",
    "                        lambda a, b: ''.join([re.sub(' ', b[i], a[i]) for i in range(0,5)]),\n",
    "                        # select the Capital letters from the successful tries\n",
    "                        [re.sub('[a-z]',' ',t[1]) for t in tries]\n",
    "                    )\n",
    "                ),\n",
    "                'Successful Placement Regex',\n",
    "            ),\n",
    "            case=False,\n",
    "            regex=True\n",
    "        )\n",
    "\n",
    "        # match words that must contain characters but placement is unknown\n",
    "        & df.words.str.contains(\n",
    "            pipe_logger(\n",
    "                ''.join(\n",
    "                    ['^'] +\n",
    "                    [f'(?=.*{i}.*)' for i in set(sorted(''.join([re.sub('[A-Z ]','',t[1]) for t in tries])))] +\n",
    "                    ['.*$']\n",
    "                ),\n",
    "                'Unknown Placement',\n",
    "            ),\n",
    "            regex=True,\n",
    "        )\n",
    "        \n",
    "        # match words that do not have incorrect placment of characters\n",
    "        & df.words.str.contains(\n",
    "            pipe_logger(\n",
    "                ''.join([\n",
    "                    # replace empty characters sets with '.'\n",
    "                    re.sub(\n",
    "                        r'\\[\\^\\]',\n",
    "                        r'.',\n",
    "                        # drop spaces and build simple regex character set for 'not'\n",
    "                        '[^' + re.sub(' ','',t) + ']'\n",
    "                    )\n",
    "                    for t in \n",
    "                    # split list by every word attempt\n",
    "                    re.findall(\n",
    "                        '.' * len(tries),\n",
    "                        # merge into a single string of characters\n",
    "                        ''.join(\n",
    "                            # take the nth character from each incorrect placement result\n",
    "                            [re.sub('[A-Z]',' ',t[1])[i] for i in range(0,5) for t in tries]\n",
    "                        )\n",
    "                    )\n",
    "                ]),\n",
    "                'Incorrect Placement',\n",
    "            ),\n",
    "            regex=True,\n",
    "        )\n",
    "    ]\n",
    ")\n",
    "logging.info(f'Possible Candidates : {candidates.shape[0]}')\n",
    "display(candidates)"
   ]
  },
  {
   "cell_type": "code",
   "execution_count": null,
   "id": "99293677-6b00-47c8-8dc2-52ee444b0ebe",
   "metadata": {},
   "outputs": [],
   "source": [
    "# Calculate letter frequencies in remaining candidate words\n",
    "freq = (\n",
    "    pd.concat(\n",
    "        [\n",
    "            candidates.l1.value_counts(),\n",
    "            candidates.l2.value_counts(),\n",
    "            candidates.l3.value_counts(),\n",
    "            candidates.l4.value_counts(),\n",
    "            candidates.l5.value_counts(),\n",
    "        ],\n",
    "        axis = 1\n",
    "    )\n",
    "    .fillna(0)\n",
    "    .astype('int')\n",
    ")\n",
    "freq['total'] = freq.sum(axis=1)\n",
    "display(freq.sort_values('total', ascending=False))"
   ]
  }
 ],
 "metadata": {
  "kernelspec": {
   "display_name": "Python 3 (ipykernel)",
   "language": "python",
   "name": "python3"
  },
  "language_info": {
   "codemirror_mode": {
    "name": "ipython",
    "version": 3
   },
   "file_extension": ".py",
   "mimetype": "text/x-python",
   "name": "python",
   "nbconvert_exporter": "python",
   "pygments_lexer": "ipython3",
   "version": "3.10.0"
  }
 },
 "nbformat": 4,
 "nbformat_minor": 5
}
